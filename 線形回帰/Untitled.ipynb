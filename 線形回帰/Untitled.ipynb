{
 "cells": [
  {
   "cell_type": "code",
   "execution_count": 2,
   "id": "7eb07e63-c8cd-470e-821b-2f8fa30fcb30",
   "metadata": {},
   "outputs": [],
   "source": [
    "import os # ディレクトリを設定するためのライブラリ\n",
    "import pandas as pd # Pythonでデータフレームを扱う（panda package）\n",
    "import statsmodels.formula.api as sm # 回帰分析のライブラリ\n",
    "import seaborn # 散布図に回帰直線を引くライブラリ"
   ]
  },
  {
   "cell_type": "code",
   "execution_count": 4,
   "id": "2f4e8a1e-7c82-46a1-ad2f-1fd255bdcd35",
   "metadata": {},
   "outputs": [],
   "source": [
    "mydata = pd.read_csv('./data.csv')"
   ]
  },
  {
   "cell_type": "code",
   "execution_count": 5,
   "id": "acc3452f-8a57-4d46-9d70-87ea85b99608",
   "metadata": {},
   "outputs": [
    {
     "data": {
      "text/plain": [
       "<AxesSubplot:title={'center':'X2 vs Y'}, xlabel='X2', ylabel='Y'>"
      ]
     },
     "execution_count": 5,
     "metadata": {},
     "output_type": "execute_result"
    },
    {
     "data": {
      "image/png": "[encoded data removed]",
      "text/plain": [
       "<Figure size 432x288 with 1 Axes>"
      ]
     },
     "metadata": {
      "needs_background": "light"
     },
     "output_type": "display_data"
    },
    {
     "data": {
      "image/png": "[encoded data removed]",
      "text/plain": [
       "<Figure size 432x288 with 1 Axes>"
      ]
     },
     "metadata": {
      "needs_background": "light"
     },
     "output_type": "display_data"
    }
   ],
   "source": [
    "# pandasライブラリを利用して散布図を描く\n",
    "mydata.plot.scatter(x='X1', y='Y', title='X1 vs Y')\n",
    "mydata.plot.scatter(x='X2', y='Y', title='X2 vs Y')"
   ]
  },
  {
   "cell_type": "code",
   "execution_count": 7,
   "id": "48214777-5a05-4929-837f-5ad43603960f",
   "metadata": {},
   "outputs": [
    {
     "name": "stdout",
     "output_type": "stream",
     "text": [
      "                            OLS Regression Results                            \n",
      "==============================================================================\n",
      "Dep. Variable:                      Y   R-squared:                       0.892\n",
      "Model:                            OLS   Adj. R-squared:                  0.887\n",
      "Method:                 Least Squares   F-statistic:                     157.2\n",
      "Date:                Tue, 10 Aug 2021   Prob (F-statistic):           1.23e-10\n",
      "Time:                        13:33:36   Log-Likelihood:                -81.264\n",
      "No. Observations:                  21   AIC:                             166.5\n",
      "Df Residuals:                      19   BIC:                             168.6\n",
      "Df Model:                           1                                         \n",
      "Covariance Type:            nonrobust                                         \n",
      "==============================================================================\n",
      "                 coef    std err          t      P>|t|      [0.025      0.975]\n",
      "------------------------------------------------------------------------------\n",
      "Intercept     68.0454      9.462      7.191      0.000      48.241      87.850\n",
      "X1             1.8359      0.146     12.539      0.000       1.529       2.142\n",
      "==============================================================================\n",
      "Omnibus:                        0.747   Durbin-Watson:                   1.843\n",
      "Prob(Omnibus):                  0.688   Jarque-Bera (JB):                0.355\n",
      "Skew:                           0.316   Prob(JB):                        0.837\n",
      "Kurtosis:                       2.913   Cond. No.                         230.\n",
      "==============================================================================\n",
      "\n",
      "Notes:\n",
      "[1] Standard Errors assume that the covariance matrix of the errors is correctly specified.\n",
      "\n",
      "                            OLS Regression Results                            \n",
      "==============================================================================\n",
      "Dep. Variable:                      Y   R-squared:                       0.699\n",
      "Model:                            OLS   Adj. R-squared:                  0.683\n",
      "Method:                 Least Squares   F-statistic:                     44.03\n",
      "Date:                Tue, 10 Aug 2021   Prob (F-statistic):           2.39e-06\n",
      "Time:                        13:33:36   Log-Likelihood:                -92.059\n",
      "No. Observations:                  21   AIC:                             188.1\n",
      "Df Residuals:                      19   BIC:                             190.2\n",
      "Df Model:                           1                                         \n",
      "Covariance Type:            nonrobust                                         \n",
      "==============================================================================\n",
      "                 coef    std err          t      P>|t|      [0.025      0.975]\n",
      "------------------------------------------------------------------------------\n",
      "Intercept   -352.4928     80.657     -4.370      0.000    -521.310    -183.676\n",
      "X2            31.1732      4.698      6.636      0.000      21.341      41.006\n",
      "==============================================================================\n",
      "Omnibus:                        0.266   Durbin-Watson:                   1.848\n",
      "Prob(Omnibus):                  0.875   Jarque-Bera (JB):                0.225\n",
      "Skew:                           0.207   Prob(JB):                        0.894\n",
      "Kurtosis:                       2.709   Cond. No.                         312.\n",
      "==============================================================================\n",
      "\n",
      "Notes:\n",
      "[1] Standard Errors assume that the covariance matrix of the errors is correctly specified.\n"
     ]
    }
   ],
   "source": [
    " # 単回帰モデル1\n",
    "SLR1 = sm.ols(formula=\"Y ~ X1\", data=mydata).fit()\n",
    "print(SLR1.summary())\n",
    "print()\n",
    "# 単回帰モデル2\n",
    "SLR2 = sm.ols(formula=\"Y ~ X2\", data=mydata).fit()\n",
    "print(SLR2.summary())"
   ]
  },
  {
   "cell_type": "code",
   "execution_count": null,
   "id": "47e47ada-dc38-4f79-b904-79377ba845e1",
   "metadata": {},
   "outputs": [],
   "source": []
  }
 ],
 "metadata": {
  "kernelspec": {
   "display_name": "Python 3",
   "language": "python",
   "name": "python3"
  },
  "language_info": {
   "codemirror_mode": {
    "name": "ipython",
    "version": 3
   },
   "file_extension": ".py",
   "mimetype": "text/x-python",
   "name": "python",
   "nbconvert_exporter": "python",
   "pygments_lexer": "ipython3",
   "version": "3.8.5"
  }
 },
 "nbformat": 4,
 "nbformat_minor": 5
}
