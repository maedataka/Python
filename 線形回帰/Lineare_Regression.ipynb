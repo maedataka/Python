{
 "cells": [
  {
   "cell_type": "markdown",
   "id": "91fc713c-60cf-4d92-90a7-f71128f422fb",
   "metadata": {},
   "source": [
    "## 線形回帰の練習\n",
    "- 参考サイト：https://toukei.link/programmingandsoftware/statistics_by_python/python_regression/"
   ]
  },
  {
   "cell_type": "code",
   "execution_count": 6,
   "id": "5712c12d-51bb-441e-aff3-04d99e669bd5",
   "metadata": {},
   "outputs": [],
   "source": [
    "import os # ディレクトリを設定するためのライブラリ\n",
    "import pandas as pd # Pythonでデータフレームを扱う（panda package）\n",
    "import statsmodels.formula.api as sm # 回帰分析のライブラリ\n",
    "import seaborn # 散布図に回帰直線を引くライブラリ"
   ]
  },
  {
   "cell_type": "code",
   "execution_count": 1,
   "id": "8a62c383-52db-4fa5-ae51-d2073919e197",
   "metadata": {},
   "outputs": [],
   "source": [
    "import os # ディレクトリを設定するためのライブラリ\n",
    "import pandas as pd # Pythonでデータフレームを扱う（panda package）\n",
    "import statsmodels as sm # 回帰分析のライブラリ\n",
    "import seaborn # 散布図に回帰直線を引くライブラリ\n",
    "import numpy as np\n",
    "import matplotlib.pyplot as plt\n",
    "from scipy import stats"
   ]
  },
  {
   "cell_type": "code",
   "execution_count": 7,
   "id": "e5dd4c78-c37a-4ca6-9e3d-8e6278548360",
   "metadata": {},
   "outputs": [],
   "source": [
    "# CSV形式のデータを読み込む\n",
    "mydata = pd.read_csv('data.csv')"
   ]
  },
  {
   "cell_type": "code",
   "execution_count": 8,
   "id": "8267bdb1-e131-42c3-8a5a-827094f5f244",
   "metadata": {},
   "outputs": [
    {
     "data": {
      "text/plain": [
       "<AxesSubplot:title={'center':'X2 vs Y'}, xlabel='X2', ylabel='Y'>"
      ]
     },
     "execution_count": 8,
     "metadata": {},
     "output_type": "execute_result"
    },
    {
     "data": {
      "image/png": "[encoded data removed]",
      "text/plain": [
       "<Figure size 432x288 with 1 Axes>"
      ]
     },
     "metadata": {
      "needs_background": "light"
     },
     "output_type": "display_data"
    },
    {
     "data": {
      "image/png": "[encoded data removed]",
      "text/plain": [
       "<Figure size 432x288 with 1 Axes>"
      ]
     },
     "metadata": {
      "needs_background": "light"
     },
     "output_type": "display_data"
    }
   ],
   "source": [
    "# pandasライブラリを利用して散布図を描く\n",
    "mydata.plot.scatter(x='X1', y='Y', title='X1 vs Y')\n",
    "mydata.plot.scatter(x='X2', y='Y', title='X2 vs Y')"
   ]
  },
  {
   "cell_type": "markdown",
   "id": "b707f6eb-b59b-48ca-99b9-4f2ee5a6bea6",
   "metadata": {},
   "source": [
    "### ◆単回帰分析\n",
    "- 単回帰モデル1: $ Y = \\beta_{0} + \\beta_{1}X_{1} + \\epsilon $\n",
    "\n",
    "- 単回帰モデル2: $ Y = \\beta_{0} + \\beta_{1}X_{2} + \\epsilon $"
   ]
  },
  {
   "cell_type": "code",
   "execution_count": 10,
   "id": "ebacdccc-f902-435d-8a8a-b581499da026",
   "metadata": {},
   "outputs": [
    {
     "name": "stdout",
     "output_type": "stream",
     "text": [
      "                            OLS Regression Results                            \n",
      "==============================================================================\n",
      "Dep. Variable:                      Y   R-squared:                       0.892\n",
      "Model:                            OLS   Adj. R-squared:                  0.887\n",
      "Method:                 Least Squares   F-statistic:                     157.2\n",
      "Date:                Tue, 10 Aug 2021   Prob (F-statistic):           1.23e-10\n",
      "Time:                        13:35:40   Log-Likelihood:                -81.264\n",
      "No. Observations:                  21   AIC:                             166.5\n",
      "Df Residuals:                      19   BIC:                             168.6\n",
      "Df Model:                           1                                         \n",
      "Covariance Type:            nonrobust                                         \n",
      "==============================================================================\n",
      "                 coef    std err          t      P>|t|      [0.025      0.975]\n",
      "------------------------------------------------------------------------------\n",
      "Intercept     68.0454      9.462      7.191      0.000      48.241      87.850\n",
      "X1             1.8359      0.146     12.539      0.000       1.529       2.142\n",
      "==============================================================================\n",
      "Omnibus:                        0.747   Durbin-Watson:                   1.843\n",
      "Prob(Omnibus):                  0.688   Jarque-Bera (JB):                0.355\n",
      "Skew:                           0.316   Prob(JB):                        0.837\n",
      "Kurtosis:                       2.913   Cond. No.                         230.\n",
      "==============================================================================\n",
      "\n",
      "Notes:\n",
      "[1] Standard Errors assume that the covariance matrix of the errors is correctly specified.\n",
      "\n",
      "                            OLS Regression Results                            \n",
      "==============================================================================\n",
      "Dep. Variable:                      Y   R-squared:                       0.699\n",
      "Model:                            OLS   Adj. R-squared:                  0.683\n",
      "Method:                 Least Squares   F-statistic:                     44.03\n",
      "Date:                Tue, 10 Aug 2021   Prob (F-statistic):           2.39e-06\n",
      "Time:                        13:35:40   Log-Likelihood:                -92.059\n",
      "No. Observations:                  21   AIC:                             188.1\n",
      "Df Residuals:                      19   BIC:                             190.2\n",
      "Df Model:                           1                                         \n",
      "Covariance Type:            nonrobust                                         \n",
      "==============================================================================\n",
      "                 coef    std err          t      P>|t|      [0.025      0.975]\n",
      "------------------------------------------------------------------------------\n",
      "Intercept   -352.4928     80.657     -4.370      0.000    -521.310    -183.676\n",
      "X2            31.1732      4.698      6.636      0.000      21.341      41.006\n",
      "==============================================================================\n",
      "Omnibus:                        0.266   Durbin-Watson:                   1.848\n",
      "Prob(Omnibus):                  0.875   Jarque-Bera (JB):                0.225\n",
      "Skew:                           0.207   Prob(JB):                        0.894\n",
      "Kurtosis:                       2.709   Cond. No.                         312.\n",
      "==============================================================================\n",
      "\n",
      "Notes:\n",
      "[1] Standard Errors assume that the covariance matrix of the errors is correctly specified.\n"
     ]
    }
   ],
   "source": [
    " # 単回帰モデル1\n",
    "SLR1 = sm.ols(formula=\"Y ~ X1\", data=mydata).fit()\n",
    "print(SLR1.summary())\n",
    "print()\n",
    "# 単回帰モデル2\n",
    "SLR2 = sm.ols(formula=\"Y ~ X2\", data=mydata).fit()\n",
    "print(SLR2.summary())"
   ]
  },
  {
   "cell_type": "code",
   "execution_count": 11,
   "id": "a50f128e-49a1-4c9b-9aeb-854a2f756312",
   "metadata": {},
   "outputs": [
    {
     "data": {
      "text/plain": [
       "<seaborn.axisgrid.FacetGrid at 0x7fae18bfffa0>"
      ]
     },
     "execution_count": 11,
     "metadata": {},
     "output_type": "execute_result"
    },
    {
     "data": {
      "image/png": "[encoded data removed]",
      "text/plain": [
       "<Figure size 360x360 with 1 Axes>"
      ]
     },
     "metadata": {
      "needs_background": "light"
     },
     "output_type": "display_data"
    }
   ],
   "source": [
    "# 散布図に回帰直線を入れる\n",
    "seaborn.lmplot(x='X1',y='Y',data=mydata,fit_reg=True) "
   ]
  },
  {
   "cell_type": "markdown",
   "id": "08471c44-a8d6-4e4d-b362-a3605e209393",
   "metadata": {},
   "source": [
    "### 重回帰分析\n",
    "- 重回帰モデル: $ Y = \\beta_{0} + \\beta_{1}X_{1} + \\beta_{2}X_{2} + \\epsilon $"
   ]
  },
  {
   "cell_type": "code",
   "execution_count": 13,
   "id": "6af603ee-ac41-4fd6-ad50-7280690960ac",
   "metadata": {},
   "outputs": [
    {
     "name": "stdout",
     "output_type": "stream",
     "text": [
      "                            OLS Regression Results                            \n",
      "==============================================================================\n",
      "Dep. Variable:                      Y   R-squared:                       0.917\n",
      "Model:                            OLS   Adj. R-squared:                  0.907\n",
      "Method:                 Least Squares   F-statistic:                     99.10\n",
      "Date:                Tue, 10 Aug 2021   Prob (F-statistic):           1.92e-10\n",
      "Time:                        13:36:07   Log-Likelihood:                -78.549\n",
      "No. Observations:                  21   AIC:                             163.1\n",
      "Df Residuals:                      18   BIC:                             166.2\n",
      "Df Model:                           2                                         \n",
      "Covariance Type:            nonrobust                                         \n",
      "==============================================================================\n",
      "                 coef    std err          t      P>|t|      [0.025      0.975]\n",
      "------------------------------------------------------------------------------\n",
      "Intercept    -68.8571     60.017     -1.147      0.266    -194.948      57.234\n",
      "X1             1.4546      0.212      6.868      0.000       1.010       1.899\n",
      "X2             9.3655      4.064      2.305      0.033       0.827      17.904\n",
      "==============================================================================\n",
      "Omnibus:                        0.845   Durbin-Watson:                   1.653\n",
      "Prob(Omnibus):                  0.655   Jarque-Bera (JB):                0.722\n",
      "Skew:                          -0.090   Prob(JB):                        0.697\n",
      "Kurtosis:                       2.110   Cond. No.                     1.67e+03\n",
      "==============================================================================\n",
      "\n",
      "Notes:\n",
      "[1] Standard Errors assume that the covariance matrix of the errors is correctly specified.\n",
      "[2] The condition number is large, 1.67e+03. This might indicate that there are\n",
      "strong multicollinearity or other numerical problems.\n"
     ]
    }
   ],
   "source": [
    "# 重回帰分析\n",
    "MLR = sm.ols(formula=\"Y ~ X1 + X2\", data=mydata).fit()\n",
    "print(MLR.summary())"
   ]
  },
  {
   "cell_type": "markdown",
   "id": "12bb768a-640c-4280-b82a-7671df3980a7",
   "metadata": {},
   "source": [
    "### 信頼区間をデフォルト(95%)から変更できるように調整"
   ]
  },
  {
   "cell_type": "code",
   "execution_count": 14,
   "id": "b0058f7e-4fc3-4bb3-9002-a4a78ed1854a",
   "metadata": {},
   "outputs": [],
   "source": [
    "x = mydata['X1'].values\n",
    "y = mydata['Y'].values"
   ]
  },
  {
   "cell_type": "code",
   "execution_count": 38,
   "id": "3a2d4dee-9290-4ea2-8555-be1fb17e0f44",
   "metadata": {},
   "outputs": [],
   "source": [
    "import statsmodels.api as sm\n",
    "\n",
    "# Regression\n",
    "X = sm.add_constant(x) # constant intercept term\n",
    " \n",
    "# Model: y ~ a*x + c\n",
    "model = sm.OLS(y, X)\n",
    "fitted = model.fit()\n",
    "x_pred = np.linspace(x.min(), x.max(), 50)\n",
    "X_pred = sm.add_constant(x_pred)\n",
    "y_pred = fitted.predict(X_pred)"
   ]
  },
  {
   "cell_type": "code",
   "execution_count": 39,
   "id": "196ca0a6-f797-4f22-a659-3e6a917c2ea2",
   "metadata": {},
   "outputs": [
    {
     "name": "stdout",
     "output_type": "stream",
     "text": [
      "                            OLS Regression Results                            \n",
      "==============================================================================\n",
      "Dep. Variable:                      y   R-squared:                       0.892\n",
      "Model:                            OLS   Adj. R-squared:                  0.887\n",
      "Method:                 Least Squares   F-statistic:                     157.2\n",
      "Date:                Tue, 10 Aug 2021   Prob (F-statistic):           1.23e-10\n",
      "Time:                        13:45:29   Log-Likelihood:                -81.264\n",
      "No. Observations:                  21   AIC:                             166.5\n",
      "Df Residuals:                      19   BIC:                             168.6\n",
      "Df Model:                           1                                         \n",
      "Covariance Type:            nonrobust                                         \n",
      "==============================================================================\n",
      "                 coef    std err          t      P>|t|      [0.025      0.975]\n",
      "------------------------------------------------------------------------------\n",
      "const         68.0454      9.462      7.191      0.000      48.241      87.850\n",
      "x1             1.8359      0.146     12.539      0.000       1.529       2.142\n",
      "==============================================================================\n",
      "Omnibus:                        0.747   Durbin-Watson:                   1.843\n",
      "Prob(Omnibus):                  0.688   Jarque-Bera (JB):                0.355\n",
      "Skew:                           0.316   Prob(JB):                        0.837\n",
      "Kurtosis:                       2.913   Cond. No.                         230.\n",
      "==============================================================================\n",
      "\n",
      "Notes:\n",
      "[1] Standard Errors assume that the covariance matrix of the errors is correctly specified.\n"
     ]
    }
   ],
   "source": [
    "#print(fitted.params)     # the estimated parameters for the regression line\n",
    "print(fitted.summary())  # summary statistics for the regression"
   ]
  },
  {
   "cell_type": "code",
   "execution_count": 94,
   "id": "cea83883-3577-49f9-b97c-4278239dc0c3",
   "metadata": {},
   "outputs": [],
   "source": [
    "# Congfidence band\n",
    "n_data = len(X)\n",
    "\n",
    "y_hat = fitted.predict(X) \n",
    "y_err = y - y_hat\n",
    "mean_x = np.mean(x)\n",
    "dof = n_data - fitted.df_model - 1 # degree of freedom\n",
    "alpha = 0.05 #有意水準を設定\n",
    "t = stats.t.ppf(1-alpha, df=dof) # t-value\n",
    "s_err = np.sum(y_err**2)\n",
    "std_err = np.sqrt(s_err/(n_data-2))\n",
    "std_x = np.std(x)\n",
    "conf = t*std_err/np.sqrt(n_data)*np.sqrt(1+((x_pred-mean_x)/std_x)**2) \n",
    "upper = y_pred + abs(conf)\n",
    "lower = y_pred - abs(conf)"
   ]
  },
  {
   "cell_type": "code",
   "execution_count": 95,
   "id": "bca51e17-94fc-4e49-9c4c-7fa260dd61dc",
   "metadata": {},
   "outputs": [],
   "source": [
    "# # Congfidence band\n",
    "# n_data = len(X)\n",
    "\n",
    "# y_hat = fitted.predict(X) \n",
    "# y_err = y - y_hat\n",
    "# mean_x = np.mean(x)\n",
    "# dof = n_data - fitted.df_model - 1 # degree of freedom\n",
    "# alpha = 0.05 #有意水準を設定\n",
    "# t = stats.t.ppf(1-alpha, df=dof) # t-value\n",
    "# s_err = np.sum(y_err**2)\n",
    "# std_err = s_err/(n_data-2)\n",
    "# std_x = np.std(x)\n",
    "# conf = t*np.sqrt(std_err*((1/n_data)+((x_pred-mean_x)**2/(len(x_pred)*(x_pred-mean_x)**2))))\n",
    "# upper = y_pred + abs(conf)\n",
    "# lower = y_pred - abs(conf)"
   ]
  },
  {
   "cell_type": "code",
   "execution_count": 96,
   "id": "58425976-19b8-4fe7-b964-ae386af05665",
   "metadata": {},
   "outputs": [
    {
     "data": {
      "text/plain": [
       "array([7.54458099, 7.32984931, 7.11913532, 6.91280642, 6.71126708,\n",
       "       6.51496179, 6.32437796, 6.14004838, 5.96255314, 5.79252051,\n",
       "       5.6306266 , 5.4775931 , 5.33418266, 5.20119133, 5.07943756,\n",
       "       4.96974737, 4.87293546, 4.78978279, 4.72101118, 4.66725638,\n",
       "       4.62904157, 4.6067535 , 4.60062364, 4.61071644, 4.63692597,\n",
       "       4.6789814 , 4.73646067, 4.80881072, 4.89537226, 4.99540657,\n",
       "       5.10812217, 5.23269965, 5.36831327, 5.51414882, 5.66941754,\n",
       "       5.83336621, 6.00528398, 6.1845063 , 6.37041669, 6.56244678,\n",
       "       6.76007505, 6.96282485, 7.17026172, 7.38199056, 7.59765255,\n",
       "       7.81692216, 8.03950421, 8.2651311 , 8.49356017, 8.72457133])"
      ]
     },
     "execution_count": 96,
     "metadata": {},
     "output_type": "execute_result"
    }
   ],
   "source": [
    "conf"
   ]
  },
  {
   "cell_type": "code",
   "execution_count": 97,
   "id": "7570b375-ec7e-43b2-ab60-d5e184b28a6f",
   "metadata": {},
   "outputs": [
    {
     "data": {
      "text/plain": [
       "array([146.08765356, 147.85492076, 149.62620564, 151.40187562,\n",
       "       153.18233515, 154.96802874, 156.75944378, 158.55711308,\n",
       "       160.36161671, 162.17358296, 163.99368793, 165.82265331,\n",
       "       167.66124174, 169.51024928, 171.3704944 , 173.24280308,\n",
       "       175.12799004, 177.02683625, 178.94006352, 180.8683076 ,\n",
       "       182.81209166, 184.77180246, 186.74767148, 188.73976315,\n",
       "       190.74797156, 192.77202587, 194.81150402, 196.86585294,\n",
       "       198.93441336, 201.01644654, 203.11116102, 205.21773738,\n",
       "       207.33534987, 209.4631843 , 211.60045189, 213.74639944,\n",
       "       215.90031609, 218.06153728, 220.22944655, 222.40347551,\n",
       "       224.58310266, 226.76785133, 228.95728708, 231.1510148 ,\n",
       "       233.34867566, 235.54994415, 237.75452508, 239.96215084,\n",
       "       242.17257879, 244.38558882])"
      ]
     },
     "execution_count": 97,
     "metadata": {},
     "output_type": "execute_result"
    }
   ],
   "source": [
    "upper"
   ]
  },
  {
   "cell_type": "code",
   "execution_count": 46,
   "id": "eaa280b5-d87d-463c-aecd-990a3d36f1db",
   "metadata": {},
   "outputs": [
    {
     "data": {
      "image/png": "[encoded data removed]",
      "text/plain": [
       "<Figure size 288x288 with 1 Axes>"
      ]
     },
     "metadata": {
      "needs_background": "light"
     },
     "output_type": "display_data"
    }
   ],
   "source": [
    "# Plot\n",
    "plt.figure(figsize=(4, 4))\n",
    "plt.scatter(x, y)\n",
    "plt.plot(x_pred, y_pred, '-', linewidth=2)\n",
    "plt.fill_between(x_pred, lower, upper, color='#888888', alpha=0.4)\n",
    "plt.xlabel(\"x\"); plt.ylabel(\"y\")\n",
    "plt.tight_layout()\n",
    "plt.show()"
   ]
  },
  {
   "cell_type": "code",
   "execution_count": null,
   "id": "723e6baa-8d95-4c04-a400-d53e00676d99",
   "metadata": {},
   "outputs": [],
   "source": []
  }
 ],
 "metadata": {
  "kernelspec": {
   "display_name": "Python 3",
   "language": "python",
   "name": "python3"
  },
  "language_info": {
   "codemirror_mode": {
    "name": "ipython",
    "version": 3
   },
   "file_extension": ".py",
   "mimetype": "text/x-python",
   "name": "python",
   "nbconvert_exporter": "python",
   "pygments_lexer": "ipython3",
   "version": "3.8.5"
  }
 },
 "nbformat": 4,
 "nbformat_minor": 5
}
