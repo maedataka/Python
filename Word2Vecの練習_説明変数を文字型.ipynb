{
 "cells": [
  {
   "cell_type": "markdown",
   "id": "752806f3-ad13-4ca9-83a9-72beee87fa96",
   "metadata": {},
   "source": [
    "# Word2Vecを利用したレコメンドロジック\n",
    "#### 参考サイト：https://yolo-kiyoshi.com/2019/10/31/post-1324/"
   ]
  },
  {
   "cell_type": "markdown",
   "id": "2a8d4bba-d9d0-4d8b-be22-213ad81f97b4",
   "metadata": {},
   "source": [
    "## ライブラリーインポート"
   ]
  },
  {
   "cell_type": "code",
   "execution_count": 1,
   "id": "961c4524-821c-4dbb-8802-525ecd13cad8",
   "metadata": {},
   "outputs": [],
   "source": [
    "import pandas as pd\n",
    "import datetime\n",
    "import matplotlib.pyplot as plt\n",
    "import seaborn as sns\n",
    "\n",
    "%matplotlib inline"
   ]
  },
  {
   "cell_type": "markdown",
   "id": "5545aa85-31cb-4036-afd2-982256de909e",
   "metadata": {},
   "source": [
    "## データインポート"
   ]
  },
  {
   "cell_type": "code",
   "execution_count": 2,
   "id": "ab6ddf42-b3f8-44d1-88fd-9f82055a79b7",
   "metadata": {},
   "outputs": [],
   "source": [
    "apps = pd.read_table('data/apps.tsv')"
   ]
  },
  {
   "cell_type": "code",
   "execution_count": 3,
   "id": "2dac61c9-263a-444c-afaf-30e64ea01a99",
   "metadata": {},
   "outputs": [
    {
     "data": {
      "text/plain": [
       "str"
      ]
     },
     "execution_count": 3,
     "metadata": {},
     "output_type": "execute_result"
    }
   ],
   "source": [
    "type(apps.ApplicationDate[0])"
   ]
  },
  {
   "cell_type": "code",
   "execution_count": 4,
   "id": "564ebff8-5b08-4722-a1c8-bb74db7cc29a",
   "metadata": {},
   "outputs": [
    {
     "name": "stdout",
     "output_type": "stream",
     "text": [
      "ユニークユーザ数：321235\n",
      "ユニークJobID数：365668\n",
      "応募日from：2012-04-01\n",
      "応募日to：2012-06-26\n"
     ]
    }
   ],
   "source": [
    "# tsvファイルの読み込み\n",
    "apps = pd.read_table('data/apps.tsv')\n",
    "# ApplicationDateをtimestampにパース\n",
    "apps.loc[:, 'ApplicationDate'] = pd.to_datetime(apps.ApplicationDate).dt.date\n",
    "\n",
    "print(f'ユニークユーザ数：{len(set(apps.UserID))}')\n",
    "print(f'ユニークJobID数：{len(set(apps.JobID))}')\n",
    "print(f'応募日from：{apps.ApplicationDate.min()}')\n",
    "print(f'応募日to：{apps.ApplicationDate.max()}')"
   ]
  },
  {
   "cell_type": "code",
   "execution_count": 5,
   "id": "9cc45355-6da2-499f-9b20-f0bc7a66abd9",
   "metadata": {},
   "outputs": [
    {
     "data": {
      "text/html": [
       "<div>\n",
       "<style scoped>\n",
       "    .dataframe tbody tr th:only-of-type {\n",
       "        vertical-align: middle;\n",
       "    }\n",
       "\n",
       "    .dataframe tbody tr th {\n",
       "        vertical-align: top;\n",
       "    }\n",
       "\n",
       "    .dataframe thead th {\n",
       "        text-align: right;\n",
       "    }\n",
       "</style>\n",
       "<table border=\"1\" class=\"dataframe\">\n",
       "  <thead>\n",
       "    <tr style=\"text-align: right;\">\n",
       "      <th></th>\n",
       "      <th>UserID</th>\n",
       "      <th>WindowID</th>\n",
       "      <th>Split</th>\n",
       "      <th>ApplicationDate</th>\n",
       "      <th>JobID</th>\n",
       "    </tr>\n",
       "  </thead>\n",
       "  <tbody>\n",
       "    <tr>\n",
       "      <th>0</th>\n",
       "      <td>47</td>\n",
       "      <td>1</td>\n",
       "      <td>Train</td>\n",
       "      <td>2012-04-04</td>\n",
       "      <td>169528</td>\n",
       "    </tr>\n",
       "    <tr>\n",
       "      <th>1</th>\n",
       "      <td>47</td>\n",
       "      <td>1</td>\n",
       "      <td>Train</td>\n",
       "      <td>2012-04-06</td>\n",
       "      <td>284009</td>\n",
       "    </tr>\n",
       "    <tr>\n",
       "      <th>2</th>\n",
       "      <td>47</td>\n",
       "      <td>1</td>\n",
       "      <td>Train</td>\n",
       "      <td>2012-04-05</td>\n",
       "      <td>2121</td>\n",
       "    </tr>\n",
       "    <tr>\n",
       "      <th>3</th>\n",
       "      <td>47</td>\n",
       "      <td>1</td>\n",
       "      <td>Train</td>\n",
       "      <td>2012-04-05</td>\n",
       "      <td>848187</td>\n",
       "    </tr>\n",
       "    <tr>\n",
       "      <th>4</th>\n",
       "      <td>47</td>\n",
       "      <td>1</td>\n",
       "      <td>Train</td>\n",
       "      <td>2012-04-05</td>\n",
       "      <td>733748</td>\n",
       "    </tr>\n",
       "    <tr>\n",
       "      <th>...</th>\n",
       "      <td>...</td>\n",
       "      <td>...</td>\n",
       "      <td>...</td>\n",
       "      <td>...</td>\n",
       "      <td>...</td>\n",
       "    </tr>\n",
       "    <tr>\n",
       "      <th>1603106</th>\n",
       "      <td>1472089</td>\n",
       "      <td>7</td>\n",
       "      <td>Train</td>\n",
       "      <td>2012-06-23</td>\n",
       "      <td>573732</td>\n",
       "    </tr>\n",
       "    <tr>\n",
       "      <th>1603107</th>\n",
       "      <td>1472089</td>\n",
       "      <td>7</td>\n",
       "      <td>Train</td>\n",
       "      <td>2012-06-25</td>\n",
       "      <td>39401</td>\n",
       "    </tr>\n",
       "    <tr>\n",
       "      <th>1603108</th>\n",
       "      <td>1472089</td>\n",
       "      <td>7</td>\n",
       "      <td>Train</td>\n",
       "      <td>2012-04-30</td>\n",
       "      <td>175198</td>\n",
       "    </tr>\n",
       "    <tr>\n",
       "      <th>1603109</th>\n",
       "      <td>1472089</td>\n",
       "      <td>7</td>\n",
       "      <td>Train</td>\n",
       "      <td>2012-04-30</td>\n",
       "      <td>1073263</td>\n",
       "    </tr>\n",
       "    <tr>\n",
       "      <th>1603110</th>\n",
       "      <td>1472089</td>\n",
       "      <td>7</td>\n",
       "      <td>Train</td>\n",
       "      <td>2012-04-30</td>\n",
       "      <td>646949</td>\n",
       "    </tr>\n",
       "  </tbody>\n",
       "</table>\n",
       "<p>1603111 rows × 5 columns</p>\n",
       "</div>"
      ],
      "text/plain": [
       "          UserID  WindowID  Split ApplicationDate    JobID\n",
       "0             47         1  Train      2012-04-04   169528\n",
       "1             47         1  Train      2012-04-06   284009\n",
       "2             47         1  Train      2012-04-05     2121\n",
       "3             47         1  Train      2012-04-05   848187\n",
       "4             47         1  Train      2012-04-05   733748\n",
       "...          ...       ...    ...             ...      ...\n",
       "1603106  1472089         7  Train      2012-06-23   573732\n",
       "1603107  1472089         7  Train      2012-06-25    39401\n",
       "1603108  1472089         7  Train      2012-04-30   175198\n",
       "1603109  1472089         7  Train      2012-04-30  1073263\n",
       "1603110  1472089         7  Train      2012-04-30   646949\n",
       "\n",
       "[1603111 rows x 5 columns]"
      ]
     },
     "execution_count": 5,
     "metadata": {},
     "output_type": "execute_result"
    }
   ],
   "source": [
    "apps"
   ]
  },
  {
   "cell_type": "markdown",
   "id": "c3c1f15b-e0df-4a75-b4b3-edb1e1eff1e8",
   "metadata": {},
   "source": [
    "## JobIDを文字型に変更"
   ]
  },
  {
   "cell_type": "code",
   "execution_count": 11,
   "id": "1e126928-0035-447b-aeee-b6e0a350a983",
   "metadata": {},
   "outputs": [
    {
     "data": {
      "text/plain": [
       "UserID              int64\n",
       "WindowID            int64\n",
       "Split              object\n",
       "ApplicationDate    object\n",
       "JobID               int64\n",
       "dtype: object"
      ]
     },
     "execution_count": 11,
     "metadata": {},
     "output_type": "execute_result"
    }
   ],
   "source": [
    "apps.dtypes"
   ]
  },
  {
   "cell_type": "code",
   "execution_count": 29,
   "id": "a08b566c-812b-451b-9d2e-97ebd5a9a947",
   "metadata": {},
   "outputs": [
    {
     "data": {
      "text/plain": [
       "UserID             object\n",
       "WindowID            int64\n",
       "Split              object\n",
       "ApplicationDate    object\n",
       "JobID              object\n",
       "dtype: object"
      ]
     },
     "execution_count": 29,
     "metadata": {},
     "output_type": "execute_result"
    }
   ],
   "source": [
    "apps = apps.astype({'JobID':str, 'UserID':str})\n",
    "apps.dtypes"
   ]
  },
  {
   "cell_type": "markdown",
   "id": "eb35c3f7-5cd5-4ac9-a017-784c8d115ffa",
   "metadata": {},
   "source": [
    "## 前処理"
   ]
  },
  {
   "cell_type": "code",
   "execution_count": 30,
   "id": "75fd032a-2540-4afa-b443-f3f55de0bfbc",
   "metadata": {},
   "outputs": [
    {
     "data": {
      "text/html": [
       "<div>\n",
       "<style scoped>\n",
       "    .dataframe tbody tr th:only-of-type {\n",
       "        vertical-align: middle;\n",
       "    }\n",
       "\n",
       "    .dataframe tbody tr th {\n",
       "        vertical-align: top;\n",
       "    }\n",
       "\n",
       "    .dataframe thead th {\n",
       "        text-align: right;\n",
       "    }\n",
       "</style>\n",
       "<table border=\"1\" class=\"dataframe\">\n",
       "  <thead>\n",
       "    <tr style=\"text-align: right;\">\n",
       "      <th></th>\n",
       "      <th>UserID</th>\n",
       "      <th>WindowID</th>\n",
       "      <th>Split</th>\n",
       "      <th>ApplicationDate</th>\n",
       "      <th>JobID</th>\n",
       "    </tr>\n",
       "  </thead>\n",
       "  <tbody>\n",
       "    <tr>\n",
       "      <th>225229</th>\n",
       "      <td>1000000</td>\n",
       "      <td>1</td>\n",
       "      <td>Train</td>\n",
       "      <td>2012-04-02</td>\n",
       "      <td>190785</td>\n",
       "    </tr>\n",
       "    <tr>\n",
       "      <th>225230</th>\n",
       "      <td>1000002</td>\n",
       "      <td>1</td>\n",
       "      <td>Train</td>\n",
       "      <td>2012-04-09</td>\n",
       "      <td>747094</td>\n",
       "    </tr>\n",
       "    <tr>\n",
       "      <th>225231</th>\n",
       "      <td>1000002</td>\n",
       "      <td>1</td>\n",
       "      <td>Train</td>\n",
       "      <td>2012-04-09</td>\n",
       "      <td>373607</td>\n",
       "    </tr>\n",
       "    <tr>\n",
       "      <th>225232</th>\n",
       "      <td>1000002</td>\n",
       "      <td>1</td>\n",
       "      <td>Train</td>\n",
       "      <td>2012-04-09</td>\n",
       "      <td>298065</td>\n",
       "    </tr>\n",
       "    <tr>\n",
       "      <th>225233</th>\n",
       "      <td>1000002</td>\n",
       "      <td>1</td>\n",
       "      <td>Train</td>\n",
       "      <td>2012-04-09</td>\n",
       "      <td>758045</td>\n",
       "    </tr>\n",
       "    <tr>\n",
       "      <th>...</th>\n",
       "      <td>...</td>\n",
       "      <td>...</td>\n",
       "      <td>...</td>\n",
       "      <td>...</td>\n",
       "      <td>...</td>\n",
       "    </tr>\n",
       "    <tr>\n",
       "      <th>703704</th>\n",
       "      <td>999979</td>\n",
       "      <td>3</td>\n",
       "      <td>Train</td>\n",
       "      <td>2012-05-16</td>\n",
       "      <td>928229</td>\n",
       "    </tr>\n",
       "    <tr>\n",
       "      <th>703705</th>\n",
       "      <td>999979</td>\n",
       "      <td>3</td>\n",
       "      <td>Train</td>\n",
       "      <td>2012-05-16</td>\n",
       "      <td>563986</td>\n",
       "    </tr>\n",
       "    <tr>\n",
       "      <th>703706</th>\n",
       "      <td>999981</td>\n",
       "      <td>3</td>\n",
       "      <td>Train</td>\n",
       "      <td>2012-05-04</td>\n",
       "      <td>38978</td>\n",
       "    </tr>\n",
       "    <tr>\n",
       "      <th>225227</th>\n",
       "      <td>999982</td>\n",
       "      <td>1</td>\n",
       "      <td>Train</td>\n",
       "      <td>2012-04-05</td>\n",
       "      <td>1065301</td>\n",
       "    </tr>\n",
       "    <tr>\n",
       "      <th>225228</th>\n",
       "      <td>999982</td>\n",
       "      <td>1</td>\n",
       "      <td>Train</td>\n",
       "      <td>2012-04-05</td>\n",
       "      <td>1038299</td>\n",
       "    </tr>\n",
       "  </tbody>\n",
       "</table>\n",
       "<p>1603111 rows × 5 columns</p>\n",
       "</div>"
      ],
      "text/plain": [
       "         UserID  WindowID  Split ApplicationDate    JobID\n",
       "225229  1000000         1  Train      2012-04-02   190785\n",
       "225230  1000002         1  Train      2012-04-09   747094\n",
       "225231  1000002         1  Train      2012-04-09   373607\n",
       "225232  1000002         1  Train      2012-04-09   298065\n",
       "225233  1000002         1  Train      2012-04-09   758045\n",
       "...         ...       ...    ...             ...      ...\n",
       "703704   999979         3  Train      2012-05-16   928229\n",
       "703705   999979         3  Train      2012-05-16   563986\n",
       "703706   999981         3  Train      2012-05-04    38978\n",
       "225227   999982         1  Train      2012-04-05  1065301\n",
       "225228   999982         1  Train      2012-04-05  1038299\n",
       "\n",
       "[1603111 rows x 5 columns]"
      ]
     },
     "execution_count": 30,
     "metadata": {},
     "output_type": "execute_result"
    }
   ],
   "source": [
    "# 応募日ごとに昇順ソート\n",
    "apps.sort_values(['UserID', 'ApplicationDate'], inplace=True)\n",
    "apps"
   ]
  },
  {
   "cell_type": "markdown",
   "id": "08fa8a94-1554-44a6-8ef3-2dd1c88ac52f",
   "metadata": {},
   "source": [
    "## 学習データとテストデータに分割\n",
    "- 学習データ：2012-4-1 to 2012-6-20\n",
    "- テストデータ：2012-6-21 to 2012-6-28"
   ]
  },
  {
   "cell_type": "code",
   "execution_count": 31,
   "id": "53fdb669-1a97-46da-bfee-dea201b04207",
   "metadata": {},
   "outputs": [],
   "source": [
    "# 学習データとテストデータの分割\n",
    "kijunbi = datetime.date(2012,6,21)\n",
    "apps_train = apps.query('ApplicationDate < @kijunbi')\n",
    "apps_test = apps.query('ApplicationDate >= @kijunbi')"
   ]
  },
  {
   "cell_type": "markdown",
   "id": "acc01b3f-d77d-4441-9134-f18374d89be3",
   "metadata": {},
   "source": [
    "##### ここで、Word2Vecに入力するデータは、ユーザ単位でJobIDがlistになっている必要があります。また、Word2Vecの学習データはJobIDのみで構成されていてUserIDの情報がないので、推論（most_similar）時に各レコメンド結果をUserIDと紐づけるためにも辞書を作成しておく必要があります。"
   ]
  },
  {
   "cell_type": "code",
   "execution_count": 32,
   "id": "fca3b4bd-f168-416a-b70c-988b14dbeed2",
   "metadata": {},
   "outputs": [],
   "source": [
    "# UserIDごとに応募日時の昇順で求人IDをリスト化\n",
    "apps_train_w2v = []\n",
    "apps_train_w2v_dict = {}\n",
    "for i, v in apps_train.groupby(['UserID']):\n",
    "    # 学習データ\n",
    "    apps_train_w2v.append(list(v.JobID))\n",
    "    # ユーザIDをKeyに持つ辞書\n",
    "    apps_train_w2v_dict[i] = list(v.JobID)"
   ]
  },
  {
   "cell_type": "markdown",
   "id": "af403677-b1b6-4ea6-81d8-ab9dca854564",
   "metadata": {},
   "source": [
    "## レコメンドモデルの構築"
   ]
  },
  {
   "cell_type": "code",
   "execution_count": 33,
   "id": "72c510b8-434b-4855-9ed1-2496e959cb4b",
   "metadata": {},
   "outputs": [
    {
     "data": {
      "text/html": [
       "<pre>Warning: Ignoring columns WindowID, Split, ApplicationDate;</pre>"
      ],
      "text/plain": [
       "Warning: Ignoring columns WindowID, Split, ApplicationDate;"
      ]
     },
     "metadata": {},
     "output_type": "display_data"
    },
    {
     "data": {
      "text/html": [
       "<pre> To use one of these as a rating column, specify the column name to be used as target</pre>"
      ],
      "text/plain": [
       " To use one of these as a rating column, specify the column name to be used as target"
      ]
     },
     "metadata": {},
     "output_type": "display_data"
    },
    {
     "data": {
      "text/html": [
       "<pre>    and use a method that allows the use of a target.</pre>"
      ],
      "text/plain": [
       "    and use a method that allows the use of a target."
      ]
     },
     "metadata": {},
     "output_type": "display_data"
    },
    {
     "data": {
      "text/html": [
       "<pre>Preparing data set.</pre>"
      ],
      "text/plain": [
       "Preparing data set."
      ]
     },
     "metadata": {},
     "output_type": "display_data"
    },
    {
     "data": {
      "text/html": [
       "<pre>    Data has 1514294 observations with 304823 users and 355535 items.</pre>"
      ],
      "text/plain": [
       "    Data has 1514294 observations with 304823 users and 355535 items."
      ]
     },
     "metadata": {},
     "output_type": "display_data"
    },
    {
     "data": {
      "text/html": [
       "<pre>    Data prepared in: 0.830572s</pre>"
      ],
      "text/plain": [
       "    Data prepared in: 0.830572s"
      ]
     },
     "metadata": {},
     "output_type": "display_data"
    },
    {
     "data": {
      "text/html": [
       "<pre>Training model from provided data.</pre>"
      ],
      "text/plain": [
       "Training model from provided data."
      ]
     },
     "metadata": {},
     "output_type": "display_data"
    },
    {
     "data": {
      "text/html": [
       "<pre>Gathering per-item and per-user statistics.</pre>"
      ],
      "text/plain": [
       "Gathering per-item and per-user statistics."
      ]
     },
     "metadata": {},
     "output_type": "display_data"
    },
    {
     "data": {
      "text/html": [
       "<pre>+--------------------------------+------------+</pre>"
      ],
      "text/plain": [
       "+--------------------------------+------------+"
      ]
     },
     "metadata": {},
     "output_type": "display_data"
    },
    {
     "data": {
      "text/html": [
       "<pre>| Elapsed Time (Item Statistics) | % Complete |</pre>"
      ],
      "text/plain": [
       "| Elapsed Time (Item Statistics) | % Complete |"
      ]
     },
     "metadata": {},
     "output_type": "display_data"
    },
    {
     "data": {
      "text/html": [
       "<pre>+--------------------------------+------------+</pre>"
      ],
      "text/plain": [
       "+--------------------------------+------------+"
      ]
     },
     "metadata": {},
     "output_type": "display_data"
    },
    {
     "data": {
      "text/html": [
       "<pre>| 630us                          | 0.25       |</pre>"
      ],
      "text/plain": [
       "| 630us                          | 0.25       |"
      ]
     },
     "metadata": {},
     "output_type": "display_data"
    },
    {
     "data": {
      "text/html": [
       "<pre>| 36.482ms                       | 100        |</pre>"
      ],
      "text/plain": [
       "| 36.482ms                       | 100        |"
      ]
     },
     "metadata": {},
     "output_type": "display_data"
    },
    {
     "data": {
      "text/html": [
       "<pre>+--------------------------------+------------+</pre>"
      ],
      "text/plain": [
       "+--------------------------------+------------+"
      ]
     },
     "metadata": {},
     "output_type": "display_data"
    },
    {
     "data": {
      "text/html": [
       "<pre>Setting up lookup tables.</pre>"
      ],
      "text/plain": [
       "Setting up lookup tables."
      ]
     },
     "metadata": {},
     "output_type": "display_data"
    },
    {
     "data": {
      "text/html": [
       "<pre>Processing data in one pass using sparse lookup tables.</pre>"
      ],
      "text/plain": [
       "Processing data in one pass using sparse lookup tables."
      ]
     },
     "metadata": {},
     "output_type": "display_data"
    },
    {
     "data": {
      "text/html": [
       "<pre>+-------------------------------------+------------------+-----------------+</pre>"
      ],
      "text/plain": [
       "+-------------------------------------+------------------+-----------------+"
      ]
     },
     "metadata": {},
     "output_type": "display_data"
    },
    {
     "data": {
      "text/html": [
       "<pre>| Elapsed Time (Constructing Lookups) | Total % Complete | Items Processed |</pre>"
      ],
      "text/plain": [
       "| Elapsed Time (Constructing Lookups) | Total % Complete | Items Processed |"
      ]
     },
     "metadata": {},
     "output_type": "display_data"
    },
    {
     "data": {
      "text/html": [
       "<pre>+-------------------------------------+------------------+-----------------+</pre>"
      ],
      "text/plain": [
       "+-------------------------------------+------------------+-----------------+"
      ]
     },
     "metadata": {},
     "output_type": "display_data"
    },
    {
     "data": {
      "text/html": [
       "<pre>| 401.62ms                            | 0                | 0               |</pre>"
      ],
      "text/plain": [
       "| 401.62ms                            | 0                | 0               |"
      ]
     },
     "metadata": {},
     "output_type": "display_data"
    },
    {
     "data": {
      "text/html": [
       "<pre>| 2.75s                               | 100              | 355535          |</pre>"
      ],
      "text/plain": [
       "| 2.75s                               | 100              | 355535          |"
      ]
     },
     "metadata": {},
     "output_type": "display_data"
    },
    {
     "data": {
      "text/html": [
       "<pre>+-------------------------------------+------------------+-----------------+</pre>"
      ],
      "text/plain": [
       "+-------------------------------------+------------------+-----------------+"
      ]
     },
     "metadata": {},
     "output_type": "display_data"
    },
    {
     "data": {
      "text/html": [
       "<pre>Finalizing lookup tables.</pre>"
      ],
      "text/plain": [
       "Finalizing lookup tables."
      ]
     },
     "metadata": {},
     "output_type": "display_data"
    },
    {
     "data": {
      "text/html": [
       "<pre>Generating candidate set for working with new users.</pre>"
      ],
      "text/plain": [
       "Generating candidate set for working with new users."
      ]
     },
     "metadata": {},
     "output_type": "display_data"
    },
    {
     "data": {
      "text/html": [
       "<pre>Finished training in 2.85722s</pre>"
      ],
      "text/plain": [
       "Finished training in 2.85722s"
      ]
     },
     "metadata": {},
     "output_type": "display_data"
    }
   ],
   "source": [
    "import turicreate as tc\n",
    "# pandas.DataFrameをTuri Create独自のSFrameに変換\n",
    "train = tc.SFrame(apps_train)\n",
    "test = tc.SFrame(apps_test)\n",
    "# 協調フィルタリングでモデル構築\n",
    "model_cf = tc.recommender.create(train, user_id='UserID', item_id='JobID')"
   ]
  },
  {
   "cell_type": "code",
   "execution_count": 34,
   "id": "f20ee2b0-fdcb-4ca9-920a-1384bd42e735",
   "metadata": {},
   "outputs": [],
   "source": [
    "from gensim.models import word2vec\n",
    "\n",
    "# ハイパーパラメータはデフォルト\n",
    "model_w2v = word2vec.Word2Vec(apps_train_w2v, min_count=1)"
   ]
  },
  {
   "cell_type": "markdown",
   "id": "f724250e-f8eb-412d-91cc-db4da5adb703",
   "metadata": {},
   "source": [
    "## 推論"
   ]
  },
  {
   "cell_type": "markdown",
   "id": "c1ddc780-1229-410a-8217-9afddc623823",
   "metadata": {},
   "source": [
    "##### 今回は、学習データとテストデータに共通して存在しているユーザを対象にレコメンドし、その結果を評価します。まずは、学習データとテストデータに共通して存在しているユーザを抽出します。"
   ]
  },
  {
   "cell_type": "code",
   "execution_count": 35,
   "id": "ae423cd7-a9d7-459d-a019-36c78c5161e3",
   "metadata": {},
   "outputs": [
    {
     "name": "stdout",
     "output_type": "stream",
     "text": [
      "学習データとテストデータに共通するユーザ数：13485\n"
     ]
    }
   ],
   "source": [
    "# テストデータと学習データに共通するユーザIDの集合\n",
    "train_test_UserID_set = set(apps_test.UserID).intersection(set(apps_train.UserID))\n",
    "print(f'学習データとテストデータに共通するユーザ数：{len(train_test_UserID_set)}')\n",
    "\n",
    "# レコメンド対象のユーザをlist化\n",
    "recommend_user = list(train_test_UserID_set)"
   ]
  },
  {
   "cell_type": "markdown",
   "id": "18d64b22-33d3-4cf0-876f-686645293be0",
   "metadata": {},
   "source": [
    "##### アイテムベース協調フィルタリングの場合とは異なり、Word2Vecのmost_similar結果には学習時に使用したアイテム(つまり過去に応募したJobID)が含まれてしまう場合があるため、やや工夫が必要です。応募済みのJobIDをレコメンドしないために、各ユーザに対して以下の工程を行います。\n",
    "\n",
    "1. ユーザが応募したJobIDベクトルを全て合成し、類似度上位100件を取得\n",
    "2. 類似度上位100件の中で過去に応募したJobIDがあれば削除\n",
    "\n",
    "##### ここで、アイテムベース協調フィルタリングと同じ30件ではなく100件を抽出している理由は、応募したJobIDを削除した後でもJobIDが30件以上必ず残したいためであり、なんとなく100件に指定しているだけです。"
   ]
  },
  {
   "cell_type": "code",
   "execution_count": 36,
   "id": "7e398022-2ab9-41d6-951e-369716ed8788",
   "metadata": {},
   "outputs": [],
   "source": [
    "# 協調フィルタリングによるレコメンド\n",
    "rec = model_cf.recommend(users=recommend_user, k=30, verbose=False)\n",
    "rec = pd.DataFrame(rec)"
   ]
  },
  {
   "cell_type": "code",
   "execution_count": 37,
   "id": "98377a56-6895-4c19-a525-d68231da77dd",
   "metadata": {},
   "outputs": [],
   "source": [
    "jo_list = []\n",
    "user_list = []\n",
    "# レコメンド対象のユーザごとに処理\n",
    "for user_id in recommend_user:\n",
    "    # 学習データにおけるユーザの全ての行動履歴を合成しベクトル生成。\n",
    "    # most_similarityはそのベクトルと類似した100件のJobIDを類似度とともにtupleで返却する。\n",
    "    sim_list = model_w2v.wv.most_similar(positive=apps_train_w2v_dict[user_id], topn=100)\n",
    "\n",
    "    jo_list_by_user = []\n",
    "    # most_similarされたJobIDに応募済のものがある場合、レコメンド結果から除外\n",
    "    for sim in sim_list:\n",
    "        if sim[0] not in apps_train_w2v_dict[user_id]:\n",
    "            jo_list_by_user.append(sim[0])\n",
    "\n",
    "    jo_list.extend(jo_list_by_user)\n",
    "    user_list.extend([user_id]*len(jo_list_by_user))\n",
    "\n",
    "# 推論結果\n",
    "rec_w2v = pd.concat(\n",
    "    [\n",
    "        pd.DataFrame(user_list, columns=['UserID']),\n",
    "        pd.DataFrame(jo_list, columns=['JobID'])\n",
    "    ],\n",
    "    axis=1,\n",
    ")"
   ]
  },
  {
   "cell_type": "markdown",
   "id": "54b44499-264d-4d25-b96b-b02fbd2a495e",
   "metadata": {},
   "source": [
    "## レコメンド結果のオフライン評価"
   ]
  },
  {
   "cell_type": "markdown",
   "id": "cf20cb1f-fc9f-41ff-b124-dd4e2d403691",
   "metadata": {},
   "source": [
    "###### PrecisionとRecallを測定する関数を定義"
   ]
  },
  {
   "cell_type": "code",
   "execution_count": 38,
   "id": "42111bd0-8eef-4623-b67d-bf9a15166b7c",
   "metadata": {},
   "outputs": [],
   "source": [
    "import random\n",
    "\n",
    "def evaluate_rec(\n",
    "    recommend_user: list,\n",
    "    apps_test: pd.DataFrame,\n",
    "    rec: pd.DataFrame,\n",
    "    topN: int\n",
    ") -> (list, list):\n",
    "    \"\"\"'''\n",
    "    レコメンド結果と実際の行動結果をもとにPresicion@K, Recall@Kを返却するメソッド。\n",
    "\n",
    "    Parameters\n",
    "    -------\n",
    "    recommend_user : list\n",
    "        レコメンド対象のUserIDのlist。\n",
    "    apps_test : pd.DataFrame\n",
    "        実際のユーザの行動履歴。UserID, JobIDをカラムに持つこと。\n",
    "    rec : pd.DataFrame\n",
    "        レコメンド結果。UserID, JobIDをカラムに持つこと。\n",
    "    topN: int\n",
    "        レコメンド結果の上位何件を評価対象とするか。\n",
    "\n",
    "    Returns\n",
    "    -------\n",
    "    (recall, precision) : tuple\n",
    "        Recall@KとPrecision@K。\n",
    "    \"\"\"\n",
    "\n",
    "    precision = []\n",
    "    recall = []\n",
    "\n",
    "    for user_id in random.sample(recommend_user, 1000):\n",
    "        result_set = set(apps_test.query(f'UserID == \"{user_id}\"').JobID)\n",
    "        result_size = len(apps_test.query(f'UserID == \"{user_id}\"').JobID)\n",
    "\n",
    "        rec_set = set(rec.query(f'UserID == \"{user_id}\"').JobID[:topN])\n",
    "        try:\n",
    "            # Recall@K\n",
    "            recall.append(len(result_set.intersection(rec_set))/len(result_set))\n",
    "            # Precisionl@K\n",
    "            precision.append(len(rec_set.intersection(result_set))/len(rec_set))\n",
    "        except ZeroDivisionError as e:\n",
    "            print(e)\n",
    "            print(f\"UserID:{user_id} wasn't recommended.\")\n",
    "\n",
    "    return (recall, precision)"
   ]
  },
  {
   "cell_type": "markdown",
   "id": "7cb898ac-2968-44e3-8339-4e794ce7f262",
   "metadata": {},
   "source": [
    "####  レコメンド評価"
   ]
  },
  {
   "cell_type": "code",
   "execution_count": 39,
   "id": "75ea1c48-2720-4786-a9bd-96621e603939",
   "metadata": {},
   "outputs": [
    {
     "name": "stderr",
     "output_type": "stream",
     "text": [
      "/Users/maeda/opt/anaconda3/envs/env1/lib/python3.8/site-packages/seaborn/distributions.py:2557: FutureWarning: `distplot` is a deprecated function and will be removed in a future version. Please adapt your code to use either `displot` (a figure-level function with similar flexibility) or `histplot` (an axes-level function for histograms).\n",
      "  warnings.warn(msg, FutureWarning)\n",
      "/Users/maeda/opt/anaconda3/envs/env1/lib/python3.8/site-packages/seaborn/distributions.py:2557: FutureWarning: `distplot` is a deprecated function and will be removed in a future version. Please adapt your code to use either `displot` (a figure-level function with similar flexibility) or `histplot` (an axes-level function for histograms).\n",
      "  warnings.warn(msg, FutureWarning)\n",
      "/Users/maeda/opt/anaconda3/envs/env1/lib/python3.8/site-packages/seaborn/distributions.py:2557: FutureWarning: `distplot` is a deprecated function and will be removed in a future version. Please adapt your code to use either `displot` (a figure-level function with similar flexibility) or `histplot` (an axes-level function for histograms).\n",
      "  warnings.warn(msg, FutureWarning)\n",
      "/Users/maeda/opt/anaconda3/envs/env1/lib/python3.8/site-packages/seaborn/distributions.py:2557: FutureWarning: `distplot` is a deprecated function and will be removed in a future version. Please adapt your code to use either `displot` (a figure-level function with similar flexibility) or `histplot` (an axes-level function for histograms).\n",
      "  warnings.warn(msg, FutureWarning)\n"
     ]
    },
    {
     "data": {
      "text/plain": [
       "Text(0.5, 1.0, 'Recall@30 of Word2Vec')"
      ]
     },
     "execution_count": 39,
     "metadata": {},
     "output_type": "execute_result"
    },
    {
     "data": {
      "image/png": "[encoded data removed]",
      "text/plain": [
       "<Figure size 1440x504 with 4 Axes>"
      ]
     },
     "metadata": {
      "needs_background": "light"
     },
     "output_type": "display_data"
    }
   ],
   "source": [
    "topN=30\n",
    "\n",
    "# 協調フィルタリングの評価\n",
    "recall, precision = evaluate_rec(recommend_user, apps_test, rec, topN=30)\n",
    "# Word2Vecの評価\n",
    "recall_w2v, precision_w2v = evaluate_rec(recommend_user, apps_test, rec_w2v, topN=30)\n",
    "\n",
    "plt.figure(figsize=(20,7))\n",
    "plt.subplot(2,2,1)\n",
    "sns.distplot(precision)\n",
    "plt.title(f'Precisionl@{topN} of CF')\n",
    "plt.subplot(2,2,2)\n",
    "sns.distplot(recall)\n",
    "plt.title(f'Recall@{topN} of CF')\n",
    "\n",
    "plt.subplot(2,2,3)\n",
    "sns.distplot(precision_w2v)\n",
    "plt.title(f'Precisionl@{topN} of Word2Vec')\n",
    "plt.subplot(2,2,4)\n",
    "sns.distplot(recall_w2v)\n",
    "plt.title(f'Recall@{topN} of Word2Vec')"
   ]
  },
  {
   "cell_type": "code",
   "execution_count": 40,
   "id": "45db7dde-500f-41cc-a331-ae28e6010d3a",
   "metadata": {},
   "outputs": [],
   "source": [
    "# 学習で用いられたJobIDの集合\n",
    "train_job_set = set(apps_train.JobID)\n",
    "\n",
    "# 協調フィルタリングでレコメンドされたJobIDの集合\n",
    "rec_job_set = set(rec.JobID)\n",
    "\n",
    "# Word2VecでレコメンドされたJobIDの集合\n",
    "rec_job_w2v_set = set(rec_w2v.JobID)"
   ]
  },
  {
   "cell_type": "code",
   "execution_count": 41,
   "id": "8e5a868f-a05f-4bc7-ac32-7be7594bd645",
   "metadata": {},
   "outputs": [
    {
     "name": "stdout",
     "output_type": "stream",
     "text": [
      "coverage of CF : 0.15629966107415585\n",
      "coverage of Word2Vec : 0.9642848102155905\n"
     ]
    },
    {
     "data": {
      "text/plain": [
       "<BarContainer object of 2 artists>"
      ]
     },
     "execution_count": 41,
     "metadata": {},
     "output_type": "execute_result"
    },
    {
     "data": {
      "image/png": "[encoded data removed]",
      "text/plain": [
       "<Figure size 432x288 with 1 Axes>"
      ]
     },
     "metadata": {
      "needs_background": "light"
     },
     "output_type": "display_data"
    }
   ],
   "source": [
    "# カバレッジ\n",
    "coverage = len(train_job_set.intersection(rec_job_set))/len(train_job_set)\n",
    "coverage_w2v = len(train_job_set.intersection(rec_job_w2v_set))/len(train_job_set)\n",
    "print(f'coverage of CF : {coverage}')\n",
    "print(f'coverage of Word2Vec : {coverage_w2v}')\n",
    "\n",
    "plt.bar(['CF', 'Word2Vec'], [coverage, coverage_w2v])"
   ]
  },
  {
   "cell_type": "markdown",
   "id": "f1c32f99-91f1-4c39-a267-37566fa46e30",
   "metadata": {},
   "source": [
    "## Appendix"
   ]
  },
  {
   "cell_type": "code",
   "execution_count": 47,
   "id": "70c964b3-b119-49a1-bc45-6db46d2d259d",
   "metadata": {},
   "outputs": [
    {
     "data": {
      "text/plain": [
       "['910932',\n",
       " '37309',\n",
       " '83507',\n",
       " '228284',\n",
       " '341662',\n",
       " '93883',\n",
       " '284841',\n",
       " '551375',\n",
       " '284840',\n",
       " '867194']"
      ]
     },
     "execution_count": 47,
     "metadata": {},
     "output_type": "execute_result"
    }
   ],
   "source": [
    "apps_train_w2v_dict['79']"
   ]
  },
  {
   "cell_type": "code",
   "execution_count": 44,
   "id": "b8638737-c3c9-4cae-9057-1999d1874343",
   "metadata": {},
   "outputs": [
    {
     "data": {
      "text/plain": [
       "[('196225', 0.4218650758266449),\n",
       " ('1009477', 0.41948801279067993),\n",
       " ('868563', 0.41333186626434326),\n",
       " ('847415', 0.4112128019332886),\n",
       " ('519669', 0.39938631653785706),\n",
       " ('443859', 0.393680602312088),\n",
       " ('1054428', 0.39292266964912415),\n",
       " ('119089', 0.38765063881874084),\n",
       " ('643064', 0.38754919171333313),\n",
       " ('243319', 0.3838160037994385),\n",
       " ('353653', 0.382452130317688),\n",
       " ('571041', 0.3824371099472046),\n",
       " ('733595', 0.38145866990089417),\n",
       " ('656314', 0.37829336524009705),\n",
       " ('479278', 0.37623560428619385),\n",
       " ('523687', 0.37579280138015747),\n",
       " ('220678', 0.37303078174591064),\n",
       " ('657540', 0.37226641178131104),\n",
       " ('39652', 0.3721063435077667),\n",
       " ('386376', 0.37157776951789856),\n",
       " ('308875', 0.3715553879737854),\n",
       " ('437500', 0.3713293969631195),\n",
       " ('242420', 0.368261456489563),\n",
       " ('267376', 0.3677453398704529),\n",
       " ('217239', 0.36659103631973267),\n",
       " ('880778', 0.36519840359687805),\n",
       " ('566868', 0.3639797866344452),\n",
       " ('190016', 0.3639441728591919),\n",
       " ('346950', 0.36339715123176575),\n",
       " ('697873', 0.36322587728500366),\n",
       " ('471164', 0.3629659414291382),\n",
       " ('194537', 0.3622395098209381),\n",
       " ('351579', 0.3614029288291931),\n",
       " ('646975', 0.36118367314338684),\n",
       " ('529885', 0.3611091673374176),\n",
       " ('575030', 0.3610920310020447),\n",
       " ('105155', 0.3590128421783447),\n",
       " ('145377', 0.3581940233707428),\n",
       " ('581442', 0.3580099046230316),\n",
       " ('324582', 0.35791969299316406),\n",
       " ('557572', 0.356690376996994),\n",
       " ('823546', 0.35638427734375),\n",
       " ('28177', 0.3562347888946533),\n",
       " ('293372', 0.35502326488494873),\n",
       " ('1108751', 0.35500064492225647),\n",
       " ('780167', 0.35466235876083374),\n",
       " ('265465', 0.3534843623638153),\n",
       " ('562014', 0.35347267985343933),\n",
       " ('772473', 0.35306426882743835),\n",
       " ('976643', 0.3524724841117859),\n",
       " ('382008', 0.3524622619152069),\n",
       " ('744163', 0.35244449973106384),\n",
       " ('936348', 0.35242658853530884),\n",
       " ('1092446', 0.3522847890853882),\n",
       " ('83513', 0.3520010709762573),\n",
       " ('617410', 0.35141080617904663),\n",
       " ('585960', 0.3503338098526001),\n",
       " ('955835', 0.3499706983566284),\n",
       " ('315754', 0.34993845224380493),\n",
       " ('643217', 0.34986743330955505),\n",
       " ('209107', 0.3497235178947449),\n",
       " ('317304', 0.34970003366470337),\n",
       " ('899289', 0.3496849536895752),\n",
       " ('407358', 0.34960561990737915),\n",
       " ('427734', 0.34920525550842285),\n",
       " ('89753', 0.34846898913383484),\n",
       " ('261158', 0.34792041778564453),\n",
       " ('852607', 0.3478758633136749),\n",
       " ('756130', 0.3476882576942444),\n",
       " ('751811', 0.3476061522960663),\n",
       " ('899690', 0.3472207188606262),\n",
       " ('188544', 0.3468489944934845),\n",
       " ('374428', 0.34661585092544556),\n",
       " ('356633', 0.3464307487010956),\n",
       " ('1040051', 0.3463843762874603),\n",
       " ('153194', 0.3461143970489502),\n",
       " ('220879', 0.34588730335235596),\n",
       " ('899618', 0.34557396173477173),\n",
       " ('579496', 0.3452965319156647),\n",
       " ('497885', 0.34525129199028015),\n",
       " ('197394', 0.34513285756111145),\n",
       " ('728213', 0.3450615406036377),\n",
       " ('409190', 0.34453991055488586),\n",
       " ('600572', 0.343751460313797),\n",
       " ('346204', 0.34346458315849304),\n",
       " ('505560', 0.34276238083839417),\n",
       " ('378293', 0.3423307240009308),\n",
       " ('211617', 0.34186598658561707),\n",
       " ('980405', 0.34173497557640076),\n",
       " ('806144', 0.34107857942581177),\n",
       " ('17619', 0.340697318315506),\n",
       " ('285600', 0.3404991626739502),\n",
       " ('255195', 0.34032267332077026),\n",
       " ('130874', 0.34030184149742126),\n",
       " ('932450', 0.340096116065979),\n",
       " ('932179', 0.3400517702102661),\n",
       " ('194774', 0.33954012393951416),\n",
       " ('746896', 0.3395174443721771),\n",
       " ('1036947', 0.33931469917297363),\n",
       " ('782522', 0.33925461769104004)]"
      ]
     },
     "execution_count": 44,
     "metadata": {},
     "output_type": "execute_result"
    }
   ],
   "source": [
    "model_w2v.wv.most_similar(positive=apps_train_w2v_dict['13'], topn=100)"
   ]
  },
  {
   "cell_type": "code",
   "execution_count": null,
   "id": "07a4da1d-d7e2-4ee2-93a9-2dbbd137b04b",
   "metadata": {},
   "outputs": [],
   "source": []
  }
 ],
 "metadata": {
  "kernelspec": {
   "display_name": "Python 3",
   "language": "python",
   "name": "python3"
  },
  "language_info": {
   "codemirror_mode": {
    "name": "ipython",
    "version": 3
   },
   "file_extension": ".py",
   "mimetype": "text/x-python",
   "name": "python",
   "nbconvert_exporter": "python",
   "pygments_lexer": "ipython3",
   "version": "3.8.5"
  }
 },
 "nbformat": 4,
 "nbformat_minor": 5
}
