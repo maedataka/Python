{
 "cells": [
  {
   "cell_type": "markdown",
   "metadata": {},
   "source": [
    "##  Class"
   ]
  },
  {
   "cell_type": "code",
   "execution_count": 11,
   "metadata": {},
   "outputs": [
    {
     "name": "stdout",
     "output_type": "stream",
     "text": [
      "Hello\n",
      "World\n"
     ]
    }
   ],
   "source": [
    "class Myclass():\n",
    "    def __init__(self, message, message2):\n",
    "        self.value = message\n",
    "        self.value2 = message2\n",
    "\n",
    "instance = Myclass(\"Hello\", \"World\")\n",
    "print(instance.value)\n",
    "print(instance.value2)"
   ]
  },
  {
   "cell_type": "code",
   "execution_count": 22,
   "metadata": {},
   "outputs": [
    {
     "name": "stdout",
     "output_type": "stream",
     "text": [
      "Hello\n",
      "World\n",
      "Hello World\n"
     ]
    }
   ],
   "source": [
    "class Myclass():\n",
    "    def __init__(self, message, message2):\n",
    "        self.value = message\n",
    "        self.value2 = message2\n",
    "    \n",
    "    def print_tot(self):\n",
    "        tot = self.value + \" \" + self.value2\n",
    "        return tot\n",
    "\n",
    "instance = Myclass(\"Hello\", \"World\")\n",
    "print(instance.value)\n",
    "print(instance.value2)\n",
    "print(instance.print_tot())"
   ]
  },
  {
   "cell_type": "markdown",
   "metadata": {},
   "source": [
    "##  Classの継承"
   ]
  },
  {
   "cell_type": "code",
   "execution_count": 26,
   "metadata": {},
   "outputs": [
    {
     "name": "stdout",
     "output_type": "stream",
     "text": [
      "I am Oya\n",
      "I am Kodomo\n"
     ]
    }
   ],
   "source": [
    "class Oya():\n",
    "    def oya_func(self):\n",
    "        print(\"I am Oya\")\n",
    "\n",
    "class Kodomo(Oya):\n",
    "    def kodomo_func(self):\n",
    "        print(\"I am Kodomo\")\n",
    "\n",
    "instance = Kodomo()\n",
    "\n",
    "instance.oya_func()\n",
    "instance.kodomo_func()"
   ]
  },
  {
   "cell_type": "code",
   "execution_count": null,
   "metadata": {},
   "outputs": [],
   "source": []
  }
 ],
 "metadata": {
  "kernelspec": {
   "display_name": "Python 3",
   "language": "python",
   "name": "python3"
  },
  "language_info": {
   "codemirror_mode": {
    "name": "ipython",
    "version": 3
   },
   "file_extension": ".py",
   "mimetype": "text/x-python",
   "name": "python",
   "nbconvert_exporter": "python",
   "pygments_lexer": "ipython3",
   "version": "3.8.5"
  }
 },
 "nbformat": 4,
 "nbformat_minor": 4
}
